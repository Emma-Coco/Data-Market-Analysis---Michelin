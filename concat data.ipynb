{
 "cells": [
  {
   "cell_type": "code",
   "execution_count": 4,
   "metadata": {},
   "outputs": [],
   "source": [
    "import os\n",
    "import pandas as pd\n",
    "from tqdm import tqdm"
   ]
  },
  {
   "cell_type": "code",
   "execution_count": null,
   "metadata": {},
   "outputs": [
    {
     "data": {
      "text/plain": [
       "['.', 'data', 'Global']"
      ]
     },
     "execution_count": 8,
     "metadata": {},
     "output_type": "execute_result"
    }
   ],
   "source": []
  },
  {
   "cell_type": "code",
   "execution_count": null,
   "metadata": {},
   "outputs": [
    {
     "name": "stderr",
     "output_type": "stream",
     "text": [
      "6it [00:00, 222.86it/s]\n"
     ]
    },
    {
     "data": {
      "text/plain": [
       "['./data/.DS_Store',\n",
       " './data/EV USA Keywords - SEMrush.xlsx',\n",
       " './data/Electric URL/.DS_Store',\n",
       " './data/Electric URL/Filtres.csv',\n",
       " './data/Manufacturer/.DS_Store',\n",
       " './data/Manufacturer/Filtres.csv',\n",
       " './data/Tesla KWD/.DS_Store',\n",
       " './data/Tesla KWD/Filtres.csv',\n",
       " './data/Electric KWD/.DS_Store',\n",
       " './data/Electric KWD/Filtres.csv',\n",
       " './data/Global/Filtres.csv']"
      ]
     },
     "execution_count": 6,
     "metadata": {},
     "output_type": "execute_result"
    }
   ],
   "source": [
    "page_df_list = []\n",
    "pays_df_list = []\n",
    "apparence_df_list = []\n",
    "date_df_list = []\n",
    "appareils_df_list = []\n",
    "requetes_df_list = []\n",
    "no_correspondance_list = []\n",
    "\n",
    "\n",
    "for root , _ , files in tqdm(os.walk(\"./data\")):\n",
    "\n",
    "    for file in files:\n",
    "\n",
    "        current_root = os.path.join(root,file)\n",
    "        current_folder = root.split(\"/\")[-1]\n",
    "\n",
    "        if \"Pages\" in file:\n",
    "            df = pd.read_csv(current_root)\n",
    "            df[\"type\"] = root\n",
    "            page_df_list.append(pd.read_csv(current_root))\n",
    "\n",
    "        elif \"Pays\" in file:\n",
    "            pays_df_list.append(pd.read_csv(current_root))\n",
    "\n",
    "        elif \"Apparence\" in file:\n",
    "            apparence_df_list.append(pd.read_csv(current_root))\n",
    "\n",
    "        elif \"Dates\" in file:\n",
    "            date_df_list.append(pd.read_csv(current_root))\n",
    "\n",
    "        elif \"Appareils\" in file:\n",
    "            appareils_df_list.append(pd.read_csv(current_root))\n",
    "\n",
    "        elif \"Requêtes\" in file:\n",
    "            requetes_df_list.append(pd.read_csv(current_root))\n",
    "        \n",
    "        else:\n",
    "            no_correspondance_list.append(current_root)\n",
    "\n",
    "no_correspondance_list"
   ]
  },
  {
   "cell_type": "code",
   "execution_count": null,
   "metadata": {},
   "outputs": [],
   "source": [
    "page_df = []\n",
    "pays_df_list = []\n",
    "apparence_df_list = []\n",
    "date_df_list = []\n",
    "appareils_df_list = []\n",
    "requetes_df_list = []\n",
    "no_correspondance_list = []"
   ]
  }
 ],
 "metadata": {
  "kernelspec": {
   "display_name": "Python 3",
   "language": "python",
   "name": "python3"
  },
  "language_info": {
   "codemirror_mode": {
    "name": "ipython",
    "version": 3
   },
   "file_extension": ".py",
   "mimetype": "text/x-python",
   "name": "python",
   "nbconvert_exporter": "python",
   "pygments_lexer": "ipython3",
   "version": "3.11.9"
  }
 },
 "nbformat": 4,
 "nbformat_minor": 2
}
